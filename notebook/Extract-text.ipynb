{
 "cells": [
  {
   "cell_type": "code",
   "execution_count": 1,
   "metadata": {},
   "outputs": [],
   "source": [
    "import cv2\n",
    "import pytesseract as pts\n",
    "import enchant\n",
    "from PIL import Image\n",
    "import os\n",
    "\n",
    "\n",
    "def checkFormat(img):\n",
    "    if not img.endswith('.tiff'):\n",
    "        image = Image.open(img)\n",
    "        name, ext = os.path.splitext(img)\n",
    "        image.save('{}.tiff'.format(name))\n",
    "        img = \"{}.tiff\".format(name)\n",
    "    return img\n",
    "\n",
    "def resize(img, hight , width):\n",
    "\n",
    "    img = cv2.imread(img)\n",
    "    dim = (int(hight), int(width))\n",
    "    img = cv2.resize(img, dim, interpolation=cv2.INTER_AREA)\n",
    "    return img\n",
    "\n",
    "def Threshold(img):\n",
    "\n",
    "    ret, img = cv2.threshold(img, 127, 255, cv2.THRESH_BINARY)\n",
    "\n",
    "    gray = cv2.cvtColor(img, cv2.COLOR_BGR2GRAY)\n",
    "    thresh = cv2.threshold(gray, 0, 255, cv2.THRESH_OTSU  )[1] #+cv2.THRESH_BINARY_INV \n",
    "    return thresh\n",
    "\n",
    "def showImg(img):\n",
    "    cv2.imshow(\"original\", img)\n",
    "\n",
    "    cv2.waitKey(0)\n",
    "    cv2.destroyAllWindows()\n",
    "\n",
    "\n",
    "\n",
    "def loadData(img):\n",
    "\n",
    "    data = pts.image_to_string(img, lang='eng', config='--psm 6')\n",
    "\n",
    "    words = data.split()\n",
    "\n",
    "    eng = enchant.Dict(\"en_US\")\n",
    "    for word in words:\n",
    "        if not eng.check(word):\n",
    "            #words.append(eng.suggest(word)[0])\n",
    "            words.remove(word)\n",
    "\n",
    "\n",
    "    text = ' '.join(words)\n",
    "\n",
    "    return text.lower()"
   ]
  },
  {
   "cell_type": "markdown",
   "metadata": {},
   "source": [
    "`main`"
   ]
  },
  {
   "cell_type": "code",
   "execution_count": 2,
   "metadata": {},
   "outputs": [
    {
     "name": "stdout",
     "output_type": "stream",
     "text": [
      "this is president trump. your early vote has not been recorded on kansas's roster. need you to vote gop. confirm your polling place https://vote.gop/24ks\n"
     ]
    }
   ],
   "source": [
    "def main():\n",
    "    img = \"Text.jfif\"\n",
    "    img = checkFormat(img)\n",
    "    img = resize(img, hight=720, width=500)\n",
    "\n",
    "    thresh = Threshold(img)\n",
    "\n",
    "    data = loadData(thresh)\n",
    "    print(data)\n",
    "\n",
    "\n",
    "    showImg(thresh)\n",
    "\n",
    "\n",
    "if __name__ == \"__main__\":\n",
    "    main()"
   ]
  },
  {
   "cell_type": "markdown",
   "metadata": {},
   "source": [
    "`Test`"
   ]
  },
  {
   "cell_type": "code",
   "execution_count": 7,
   "metadata": {},
   "outputs": [
    {
     "name": "stderr",
     "output_type": "stream",
     "text": [
      ".\n",
      "----------------------------------------------------------------------\n",
      "Ran 1 test in 0.830s\n",
      "\n",
      "OK\n"
     ]
    }
   ],
   "source": [
    "import unittest\n",
    "import cv2\n",
    "\n",
    "class TestData(unittest.TestCase):\n",
    "\n",
    "    def test_text(self):\n",
    "        img = \"quote_inspiration_motivation_138489_1920x1080.jpg\"\n",
    "        img = checkFormat(img)\n",
    "        img = resize(img, hight=720, width=500)\n",
    "        thresh = Threshold(img)\n",
    "        data = loadData(thresh)\n",
    "\n",
    "        self.assertIn('visit' , data)\n",
    "\n",
    "if __name__ == \"__main__\":\n",
    "    unittest.main(argv=['first-arg-is-ignored'], exit=False)\n"
   ]
  }
 ],
 "metadata": {
  "kernelspec": {
   "display_name": "Python 3",
   "language": "python",
   "name": "python3"
  },
  "language_info": {
   "codemirror_mode": {
    "name": "ipython",
    "version": 3
   },
   "file_extension": ".py",
   "mimetype": "text/x-python",
   "name": "python",
   "nbconvert_exporter": "python",
   "pygments_lexer": "ipython3",
   "version": "3.7.6"
  }
 },
 "nbformat": 4,
 "nbformat_minor": 4
}
